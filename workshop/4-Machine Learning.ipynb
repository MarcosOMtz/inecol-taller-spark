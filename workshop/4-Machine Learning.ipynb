{
 "cells": [
  {
   "cell_type": "markdown",
   "metadata": {},
   "source": [
    "# Spark MLib"
   ]
  },
  {
   "cell_type": "markdown",
   "metadata": {},
   "source": [
    "Nuestra fuente de datos (de nuevo) es ficticia."
   ]
  },
  {
   "cell_type": "markdown",
   "metadata": {},
   "source": [
    "**ACLARACIÓN**: El objetivo es mostrar como usar `Spark ML`, no como hacer _machine learning_ de manera exitosa."
   ]
  },
  {
   "cell_type": "code",
   "execution_count": null,
   "metadata": {
    "collapsed": false
   },
   "outputs": [],
   "source": [
    "import pyspark\n",
    "from pyspark.sql import SQLContext\n",
    "sc = pyspark.SparkContext('local[*]')\n",
    "sqlContext = SQLContext(sc) "
   ]
  },
  {
   "cell_type": "code",
   "execution_count": null,
   "metadata": {
    "collapsed": true
   },
   "outputs": [],
   "source": [
    "from pyspark.ml import Pipeline\n",
    "from pyspark.ml.regression import LinearRegression\n",
    "from pyspark.ml.regression import LinearRegressionModel\n",
    "from pyspark.ml.regression import RandomForestRegressionModel\n",
    "from pyspark.ml.regression import RandomForestRegressor\n",
    "from pyspark.mllib.regression import LabeledPoint\n",
    "from pyspark.mllib.linalg import Vector\n",
    "from pyspark.mllib.linalg import Vectors"
   ]
  },
  {
   "cell_type": "code",
   "execution_count": null,
   "metadata": {
    "collapsed": true
   },
   "outputs": [],
   "source": [
    "import numpy as np\n",
    "x = np.random.uniform(1, 100, 1000)\n",
    "y = np.log(x) + np.random.normal(0, .3, 1000)"
   ]
  },
  {
   "cell_type": "code",
   "execution_count": null,
   "metadata": {
    "collapsed": false
   },
   "outputs": [],
   "source": [
    "%pylab inline\n",
    "import pylab as pl\n",
    "\n",
    "pl.figure(figsize=(10,10))\n",
    "pl.scatter(x, y, s=1, label=\"log(x) con ruido\")\n",
    "pl.plot(np.arange(1, 100), np.log(np.arange(1, 100)), c=\"b\", label=\"log(x)\")\n",
    "pl.xlabel(\"x\")\n",
    "pl.ylabel(\"f(x) = log(x)\")\n",
    "pl.legend(loc=\"best\")\n",
    "pl.title(\"Datos observados\")"
   ]
  },
  {
   "cell_type": "markdown",
   "metadata": {},
   "source": [
    "Guardemos los datos a archivo"
   ]
  },
  {
   "cell_type": "code",
   "execution_count": null,
   "metadata": {
    "collapsed": true
   },
   "outputs": [],
   "source": [
    "with open('data/log_datos.dat', 'w') as o:\n",
    "    for i in np.arange(1000): \n",
    "        o.write('{0:f} {1:f} \\n'.format(x[i], y[i]))\n",
    "    "
   ]
  },
  {
   "cell_type": "code",
   "execution_count": null,
   "metadata": {
    "collapsed": false
   },
   "outputs": [],
   "source": [
    "!head data/log_datos.dat"
   ]
  },
  {
   "cell_type": "code",
   "execution_count": null,
   "metadata": {
    "collapsed": false
   },
   "outputs": [],
   "source": [
    "from pyspark.sql import Row"
   ]
  },
  {
   "cell_type": "code",
   "execution_count": null,
   "metadata": {
    "collapsed": false
   },
   "outputs": [],
   "source": [
    "puntos = sc.textFile(\"data/log_datos.dat\")\n",
    "Data = Row('x', 'y')\n",
    "\n",
    "def parseDataToDF(linea):\n",
    "    cells = linea.strip().split(' ')\n",
    "    cells[0] = float(cells[0])\n",
    "    cells[1] = float(cells[1])\n",
    "    return Data(*cells)\n",
    "\n",
    "def parseDataToFeatures(linea):\n",
    "    cells = linea.strip().split(' ')\n",
    "    cells[0] = float(cells[0])\n",
    "    cells[1] = float(cells[1])\n",
    "    return LabeledPoint(cells[1], Vectors.dense(cells[0]))"
   ]
  },
  {
   "cell_type": "code",
   "execution_count": null,
   "metadata": {
    "collapsed": false
   },
   "outputs": [],
   "source": [
    "puntos_rdd = puntos.map(parseDataToDF)\n",
    "puntos_rdd.first()\n"
   ]
  },
  {
   "cell_type": "code",
   "execution_count": null,
   "metadata": {
    "collapsed": false
   },
   "outputs": [],
   "source": [
    "puntos_features = puntos.map(parseDataToFeatures)\n",
    "puntos_features.first()"
   ]
  },
  {
   "cell_type": "code",
   "execution_count": null,
   "metadata": {
    "collapsed": false
   },
   "outputs": [],
   "source": [
    "df = puntos_features.toDF()"
   ]
  },
  {
   "cell_type": "code",
   "execution_count": null,
   "metadata": {
    "collapsed": false
   },
   "outputs": [],
   "source": [
    "lr = LinearRegression()\\\n",
    "  .setMaxIter(10)\\\n",
    "  .setRegParam(0.3)\\\n",
    "  .setElasticNetParam(0.8)"
   ]
  },
  {
   "cell_type": "code",
   "execution_count": null,
   "metadata": {
    "collapsed": false
   },
   "outputs": [],
   "source": [
    "lr_model = lr.fit(df)"
   ]
  },
  {
   "cell_type": "code",
   "execution_count": null,
   "metadata": {
    "collapsed": true
   },
   "outputs": [],
   "source": [
    "lr_transformed = lr_model.transform(df)"
   ]
  },
  {
   "cell_type": "code",
   "execution_count": null,
   "metadata": {
    "collapsed": true
   },
   "outputs": [],
   "source": [
    "import pandas as pd"
   ]
  },
  {
   "cell_type": "code",
   "execution_count": null,
   "metadata": {
    "collapsed": false
   },
   "outputs": [],
   "source": [
    "lr_predictions = lr_transformed.map(lambda r: Row(x = r.features[0].item(),\n",
    "                                                  y = r.label,\n",
    "                                                  yp = r.prediction\n",
    "                                                 )).toDF().toPandas()"
   ]
  },
  {
   "cell_type": "code",
   "execution_count": null,
   "metadata": {
    "collapsed": false
   },
   "outputs": [],
   "source": [
    "lr_predictions"
   ]
  },
  {
   "cell_type": "code",
   "execution_count": null,
   "metadata": {
    "collapsed": false
   },
   "outputs": [],
   "source": [
    "%pylab inline\n",
    "\n",
    "pl.figure(figsize=(10,10))\n",
    "pl.scatter(lr_predictions['x'], lr_predictions['yp'], s=20, c=\"r\", label=\"LR prediccion\")\n",
    "pl.plot(np.arange(1, 100), np.log(np.arange(1, 100)), c=\"b\", label=\"log(x)\")\n",
    "pl.scatter(lr_predictions['x'], lr_predictions['y'], s=1, label=\"log(x) con ruido\")\n",
    "pl.xlabel(\"x\")\n",
    "pl.ylabel(\"f(x) = log(x)\")\n",
    "pl.legend(loc=\"best\")\n",
    "pl.title(\"Datos observados\")"
   ]
  },
  {
   "cell_type": "code",
   "execution_count": null,
   "metadata": {
    "collapsed": false
   },
   "outputs": [],
   "source": [
    "rf = RandomForestRegressor(numTrees=3, maxDepth=4)\n",
    "rf_model = rf.fit(df)"
   ]
  },
  {
   "cell_type": "code",
   "execution_count": null,
   "metadata": {
    "collapsed": true
   },
   "outputs": [],
   "source": [
    "rf_transformed = rf_model.transform(df)"
   ]
  },
  {
   "cell_type": "code",
   "execution_count": null,
   "metadata": {
    "collapsed": true
   },
   "outputs": [],
   "source": [
    "rf_predictions = rf_transformed.map(lambda r: Row(x = r.features[0].item(),\n",
    "                                                  y = r.label,\n",
    "                                                  yp = r.prediction\n",
    "                                                 )).toDF().toPandas()"
   ]
  },
  {
   "cell_type": "code",
   "execution_count": null,
   "metadata": {
    "collapsed": false
   },
   "outputs": [],
   "source": [
    "%pylab inline\n",
    "\n",
    "pl.figure(figsize=(10,10))\n",
    "pl.scatter(rf_predictions['x'], rf_predictions['yp'], s=20, c=\"r\", label=\"RF prediccion\")\n",
    "pl.plot(np.arange(1, 100), np.log(np.arange(1, 100)), c=\"b\", label=\"log(x)\")\n",
    "pl.scatter(rf_predictions['x'], rf_predictions['y'], s=1, label=\"log(x) con ruido\")\n",
    "pl.xlabel(\"x\")\n",
    "pl.ylabel(\"f(x) = log(x)\")\n",
    "pl.legend(loc=\"best\")\n",
    "pl.title(\"Datos observados\")\n"
   ]
  },
  {
   "cell_type": "code",
   "execution_count": null,
   "metadata": {
    "collapsed": true
   },
   "outputs": [],
   "source": []
  }
 ],
 "metadata": {
  "kernelspec": {
   "display_name": "Python 3",
   "language": "python",
   "name": "python3"
  },
  "language_info": {
   "codemirror_mode": {
    "name": "ipython",
    "version": 3
   },
   "file_extension": ".py",
   "mimetype": "text/x-python",
   "name": "python",
   "nbconvert_exporter": "python",
   "pygments_lexer": "ipython3",
   "version": "3.4.3"
  }
 },
 "nbformat": 4,
 "nbformat_minor": 0
}
